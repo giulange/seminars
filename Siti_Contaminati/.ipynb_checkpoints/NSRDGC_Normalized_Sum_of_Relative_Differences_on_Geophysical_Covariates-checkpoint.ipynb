{
 "cells": [
  {
   "cell_type": "markdown",
   "metadata": {},
   "source": [
    "# data fusion | error on using X & Y !!!!!|"
   ]
  },
  {
   "cell_type": "markdown",
   "metadata": {},
   "source": [
    "<img src=\"Griglia-Campionamento.png\" alt=\"Griglia di Campionamento\" style=\"width:500px;float:left;\" >"
   ]
  },
  {
   "cell_type": "markdown",
   "metadata": {},
   "source": [
    "Import NSRDGC saved from within MatLab [put this code at the end of this document]"
   ]
  },
  {
   "cell_type": "code",
   "execution_count": 16,
   "metadata": {
    "kernel": "matlab"
   },
   "outputs": [
    {
     "name": "stdout",
     "output_type": "stream",
     "text": [
      "ans =\n",
      "    '/home/giuliano/work/Projects/terrafuochi'\n",
      "ans =\n",
      "    '/home/giuliano/work/Projects/terrafuochi'\n"
     ]
    }
   ],
   "source": [
    "pwd\n",
    "cd /home/giuliano/work/Projects/terrafuochi\n",
    "pwd"
   ]
  },
  {
   "cell_type": "code",
   "execution_count": 17,
   "metadata": {
    "kernel": "matlab"
   },
   "outputs": [],
   "source": [
    "NSRDGC = load('NSRDGC.txt');"
   ]
  },
  {
   "cell_type": "code",
   "execution_count": 19,
   "metadata": {
    "kernel": "matlab"
   },
   "outputs": [
    {
     "name": "stdout",
     "output_type": "stream",
     "text": [
      "ans =\n",
      "        2410           3\n",
      "                  424291.3                   4533034                0.34979124\n",
      "                  424291.3                   4533039                0.85086835\n",
      "                  424291.3                   4533044                0.88123231\n",
      "                  424291.3                   4533049                0.73044703\n"
     ]
    }
   ],
   "source": [
    "size(NSRDGC)\n",
    "head(NSRDGC)"
   ]
  },
  {
   "cell_type": "code",
   "execution_count": 7,
   "metadata": {
    "kernel": "R"
   },
   "outputs": [
    {
     "data": {
      "text/html": [
       "'/home/giuliano/work/Projects/terrafuochi'"
      ],
      "text/latex": [
       "'/home/giuliano/work/Projects/terrafuochi'"
      ],
      "text/markdown": [
       "'/home/giuliano/work/Projects/terrafuochi'"
      ],
      "text/plain": [
       "[1] \"/home/giuliano/work/Projects/terrafuochi\""
      ]
     },
     "metadata": {},
     "output_type": "display_data"
    },
    {
     "data": {
      "text/html": [
       "<ol class=list-inline>\n",
       "\t<li>'L1_gcs.txt'</li>\n",
       "\t<li>'L1_ok.txt'</li>\n",
       "\t<li>'L2_ok.txt'</li>\n",
       "\t<li>'L3_ok.txt'</li>\n",
       "\t<li>'NOTES.txt'</li>\n",
       "\t<li>'NSRDGC.txt'</li>\n",
       "\t<li>'ok_L1_raw.txt'</li>\n",
       "\t<li>'ok_L2_raw.txt'</li>\n",
       "\t<li>'ok_L3_raw.txt'</li>\n",
       "\t<li>'ok.txt'</li>\n",
       "\t<li>'SumOfRelativeDifferences.txt'</li>\n",
       "\t<li>'vgm_exp_log_L1_rd__Chrome-xrf.txt'</li>\n",
       "\t<li>'vgm_exp_log_L1_rd__Zinc-xrf.txt'</li>\n",
       "\t<li>'vgm_exp_log_L2_rd__Chrome-xrf.txt'</li>\n",
       "\t<li>'vgm_exp_log_L2_rd__Zinc-xrf.txt'</li>\n",
       "\t<li>'vgm_exp_log_L3_rd__Chrome-xrf.txt'</li>\n",
       "\t<li>'vgm_exp_log_L3_rd__Zinc-xrf.txt'</li>\n",
       "\t<li>'vgm_fit_log_L1_rd__Chrome-xrf.txt'</li>\n",
       "\t<li>'vgm_fit_log_L1_rd__Zinc-xrf.txt'</li>\n",
       "\t<li>'vgm_fit_log_L2_rd__Chrome-xrf.txt'</li>\n",
       "\t<li>'vgm_fit_log_L2_rd__Zinc-xrf.txt'</li>\n",
       "\t<li>'vgm_fit_log_L3_rd__Chrome-xrf.txt'</li>\n",
       "\t<li>'vgm_fit_log_L3_rd__Zinc-xrf.txt'</li>\n",
       "\t<li>'xrf_1d_ChEl.txt'</li>\n",
       "\t<li>'xrf_1d_chrome.txt'</li>\n",
       "\t<li>'xrf_1d_zinc.txt'</li>\n",
       "\t<li>'xrf_grid.txt'</li>\n",
       "</ol>\n"
      ],
      "text/latex": [
       "\\begin{enumerate*}\n",
       "\\item 'L1\\_gcs.txt'\n",
       "\\item 'L1\\_ok.txt'\n",
       "\\item 'L2\\_ok.txt'\n",
       "\\item 'L3\\_ok.txt'\n",
       "\\item 'NOTES.txt'\n",
       "\\item 'NSRDGC.txt'\n",
       "\\item 'ok\\_L1\\_raw.txt'\n",
       "\\item 'ok\\_L2\\_raw.txt'\n",
       "\\item 'ok\\_L3\\_raw.txt'\n",
       "\\item 'ok.txt'\n",
       "\\item 'SumOfRelativeDifferences.txt'\n",
       "\\item 'vgm\\_exp\\_log\\_L1\\_rd\\_\\_Chrome-xrf.txt'\n",
       "\\item 'vgm\\_exp\\_log\\_L1\\_rd\\_\\_Zinc-xrf.txt'\n",
       "\\item 'vgm\\_exp\\_log\\_L2\\_rd\\_\\_Chrome-xrf.txt'\n",
       "\\item 'vgm\\_exp\\_log\\_L2\\_rd\\_\\_Zinc-xrf.txt'\n",
       "\\item 'vgm\\_exp\\_log\\_L3\\_rd\\_\\_Chrome-xrf.txt'\n",
       "\\item 'vgm\\_exp\\_log\\_L3\\_rd\\_\\_Zinc-xrf.txt'\n",
       "\\item 'vgm\\_fit\\_log\\_L1\\_rd\\_\\_Chrome-xrf.txt'\n",
       "\\item 'vgm\\_fit\\_log\\_L1\\_rd\\_\\_Zinc-xrf.txt'\n",
       "\\item 'vgm\\_fit\\_log\\_L2\\_rd\\_\\_Chrome-xrf.txt'\n",
       "\\item 'vgm\\_fit\\_log\\_L2\\_rd\\_\\_Zinc-xrf.txt'\n",
       "\\item 'vgm\\_fit\\_log\\_L3\\_rd\\_\\_Chrome-xrf.txt'\n",
       "\\item 'vgm\\_fit\\_log\\_L3\\_rd\\_\\_Zinc-xrf.txt'\n",
       "\\item 'xrf\\_1d\\_ChEl.txt'\n",
       "\\item 'xrf\\_1d\\_chrome.txt'\n",
       "\\item 'xrf\\_1d\\_zinc.txt'\n",
       "\\item 'xrf\\_grid.txt'\n",
       "\\end{enumerate*}\n"
      ],
      "text/markdown": [
       "1. 'L1_gcs.txt'\n",
       "2. 'L1_ok.txt'\n",
       "3. 'L2_ok.txt'\n",
       "4. 'L3_ok.txt'\n",
       "5. 'NOTES.txt'\n",
       "6. 'NSRDGC.txt'\n",
       "7. 'ok_L1_raw.txt'\n",
       "8. 'ok_L2_raw.txt'\n",
       "9. 'ok_L3_raw.txt'\n",
       "10. 'ok.txt'\n",
       "11. 'SumOfRelativeDifferences.txt'\n",
       "12. 'vgm_exp_log_L1_rd__Chrome-xrf.txt'\n",
       "13. 'vgm_exp_log_L1_rd__Zinc-xrf.txt'\n",
       "14. 'vgm_exp_log_L2_rd__Chrome-xrf.txt'\n",
       "15. 'vgm_exp_log_L2_rd__Zinc-xrf.txt'\n",
       "16. 'vgm_exp_log_L3_rd__Chrome-xrf.txt'\n",
       "17. 'vgm_exp_log_L3_rd__Zinc-xrf.txt'\n",
       "18. 'vgm_fit_log_L1_rd__Chrome-xrf.txt'\n",
       "19. 'vgm_fit_log_L1_rd__Zinc-xrf.txt'\n",
       "20. 'vgm_fit_log_L2_rd__Chrome-xrf.txt'\n",
       "21. 'vgm_fit_log_L2_rd__Zinc-xrf.txt'\n",
       "22. 'vgm_fit_log_L3_rd__Chrome-xrf.txt'\n",
       "23. 'vgm_fit_log_L3_rd__Zinc-xrf.txt'\n",
       "24. 'xrf_1d_ChEl.txt'\n",
       "25. 'xrf_1d_chrome.txt'\n",
       "26. 'xrf_1d_zinc.txt'\n",
       "27. 'xrf_grid.txt'\n",
       "\n",
       "\n"
      ],
      "text/plain": [
       " [1] \"L1_gcs.txt\"                        \"L1_ok.txt\"                        \n",
       " [3] \"L2_ok.txt\"                         \"L3_ok.txt\"                        \n",
       " [5] \"NOTES.txt\"                         \"NSRDGC.txt\"                       \n",
       " [7] \"ok_L1_raw.txt\"                     \"ok_L2_raw.txt\"                    \n",
       " [9] \"ok_L3_raw.txt\"                     \"ok.txt\"                           \n",
       "[11] \"SumOfRelativeDifferences.txt\"      \"vgm_exp_log_L1_rd__Chrome-xrf.txt\"\n",
       "[13] \"vgm_exp_log_L1_rd__Zinc-xrf.txt\"   \"vgm_exp_log_L2_rd__Chrome-xrf.txt\"\n",
       "[15] \"vgm_exp_log_L2_rd__Zinc-xrf.txt\"   \"vgm_exp_log_L3_rd__Chrome-xrf.txt\"\n",
       "[17] \"vgm_exp_log_L3_rd__Zinc-xrf.txt\"   \"vgm_fit_log_L1_rd__Chrome-xrf.txt\"\n",
       "[19] \"vgm_fit_log_L1_rd__Zinc-xrf.txt\"   \"vgm_fit_log_L2_rd__Chrome-xrf.txt\"\n",
       "[21] \"vgm_fit_log_L2_rd__Zinc-xrf.txt\"   \"vgm_fit_log_L3_rd__Chrome-xrf.txt\"\n",
       "[23] \"vgm_fit_log_L3_rd__Zinc-xrf.txt\"   \"xrf_1d_ChEl.txt\"                  \n",
       "[25] \"xrf_1d_chrome.txt\"                 \"xrf_1d_zinc.txt\"                  \n",
       "[27] \"xrf_grid.txt\"                     "
      ]
     },
     "metadata": {},
     "output_type": "display_data"
    }
   ],
   "source": [
    "setwd('/home/giuliano/work/Projects/terrafuochi')\n",
    "getwd()\n",
    "dir(pattern='*.txt')"
   ]
  },
  {
   "cell_type": "code",
   "execution_count": 22,
   "metadata": {
    "kernel": "R"
   },
   "outputs": [
    {
     "data": {
      "text/plain": [
       "       X                Y               NSRDGC       \n",
       " Min.   :424291   Min.   :4533019   Min.   : 0.1357  \n",
       " 1st Qu.:424346   1st Qu.:4533109   1st Qu.: 0.3941  \n",
       " Median :424391   Median :4533184   Median : 0.5394  \n",
       " Mean   :424394   Mean   :4533185   Mean   : 0.9709  \n",
       " 3rd Qu.:424441   3rd Qu.:4533259   3rd Qu.: 0.8307  \n",
       " Max.   :424516   Max.   :4533374   Max.   :94.4945  \n",
       "                                    NA's   :175      "
      ]
     },
     "metadata": {},
     "output_type": "display_data"
    },
    {
     "data": {
      "text/html": [
       "<table>\n",
       "<thead><tr><th scope=col>X</th><th scope=col>Y</th><th scope=col>NSRDGC</th></tr></thead>\n",
       "<tbody>\n",
       "\t<tr><td>424291.3</td><td>4533034 </td><td>0.349791</td></tr>\n",
       "\t<tr><td>424291.3</td><td>4533039 </td><td>0.850868</td></tr>\n",
       "\t<tr><td>424291.3</td><td>4533044 </td><td>0.881232</td></tr>\n",
       "\t<tr><td>424291.3</td><td>4533049 </td><td>0.730447</td></tr>\n",
       "\t<tr><td>424291.3</td><td>4533054 </td><td>0.602340</td></tr>\n",
       "\t<tr><td>424291.3</td><td>4533059 </td><td>0.535449</td></tr>\n",
       "</tbody>\n",
       "</table>\n"
      ],
      "text/latex": [
       "\\begin{tabular}{r|lll}\n",
       " X & Y & NSRDGC\\\\\n",
       "\\hline\n",
       "\t 424291.3 & 4533034  & 0.349791\\\\\n",
       "\t 424291.3 & 4533039  & 0.850868\\\\\n",
       "\t 424291.3 & 4533044  & 0.881232\\\\\n",
       "\t 424291.3 & 4533049  & 0.730447\\\\\n",
       "\t 424291.3 & 4533054  & 0.602340\\\\\n",
       "\t 424291.3 & 4533059  & 0.535449\\\\\n",
       "\\end{tabular}\n"
      ],
      "text/markdown": [
       "\n",
       "X | Y | NSRDGC | \n",
       "|---|---|---|---|---|---|\n",
       "| 424291.3 | 4533034  | 0.349791 | \n",
       "| 424291.3 | 4533039  | 0.850868 | \n",
       "| 424291.3 | 4533044  | 0.881232 | \n",
       "| 424291.3 | 4533049  | 0.730447 | \n",
       "| 424291.3 | 4533054  | 0.602340 | \n",
       "| 424291.3 | 4533059  | 0.535449 | \n",
       "\n",
       "\n"
      ],
      "text/plain": [
       "  X        Y       NSRDGC  \n",
       "1 424291.3 4533034 0.349791\n",
       "2 424291.3 4533039 0.850868\n",
       "3 424291.3 4533044 0.881232\n",
       "4 424291.3 4533049 0.730447\n",
       "5 424291.3 4533054 0.602340\n",
       "6 424291.3 4533059 0.535449"
      ]
     },
     "metadata": {},
     "output_type": "display_data"
    }
   ],
   "source": [
    "#%get NSRDGC --from matlab\n",
    "NSRDGC = read.table('NSRDGC.txt',sep=',',header=TRUE)\n",
    "summary(NSRDGC)\n",
    "head(NSRDGC)"
   ]
  },
  {
   "cell_type": "code",
   "execution_count": 8,
   "metadata": {
    "kernel": "R"
   },
   "outputs": [],
   "source": [
    "#require(sp)\n",
    "require(gstat)"
   ]
  },
  {
   "cell_type": "code",
   "execution_count": null,
   "metadata": {
    "kernel": "R"
   },
   "outputs": [],
   "source": []
  },
  {
   "cell_type": "code",
   "execution_count": null,
   "metadata": {
    "kernel": "R"
   },
   "outputs": [],
   "source": []
  },
  {
   "cell_type": "markdown",
   "metadata": {
    "collapsed": true
   },
   "source": [
    "## PARs"
   ]
  },
  {
   "cell_type": "code",
   "execution_count": 1,
   "metadata": {
    "kernel": "matlab"
   },
   "outputs": [],
   "source": [
    "% _______ PARs __________________\n",
    "CELLSIZE    = 5;%mt.\n",
    "Lat         = [40.944940,40.947950];\n",
    "Lon         = [14.100488,14.102664];\n",
    "% to retireve the orthophoto:\n",
    "LatE        = [40.9440,40.9490];\n",
    "LonE        = [14.0990,14.1045];\n",
    "% _______ PARs __________________\n",
    "\n",
    "% DEM\n",
    "Fdem = '/media/DATI/wg-pedology/db-backup/WEB_GIS_ZONAZIONE/dem_campa20m_geotiff/dem_campa.tif';\n",
    "% ORTHOPHOTO\n",
    "%Url_ortofoto = 'https://sit2.regione.campania.it/geoserver/RegioneCampania.Cartografia.Base.Raster/wms?';\n",
    "Url_ortofoto = 'https://sit2.regione.campania.it/geoserver/RegioneCampania.WMS.Base/wms?';\n",
    "\n",
    "% BBOX:\n",
    "points = [410.667,555.999; 649.334,581.332; 729.334,226.668; ...\n",
    "         688.667,198.001; 656,176.668; 628.667,161.334; 595.275,146.668; 570,136.001;\n",
    "         546.667,122.668; 518,106.001; 487.333,95.334; 458,90.001];"
   ]
  },
  {
   "cell_type": "markdown",
   "metadata": {
    "collapsed": true
   },
   "source": [
    "## build the interpolation grid"
   ]
  },
  {
   "cell_type": "code",
   "execution_count": 2,
   "metadata": {
    "kernel": "matlab"
   },
   "outputs": [],
   "source": [
    "proj = geotiffinfo(Fdem);\n",
    "[x,y] = projfwd(proj,Lat,Lon);"
   ]
  },
  {
   "cell_type": "code",
   "execution_count": 3,
   "metadata": {
    "kernel": "matlab"
   },
   "outputs": [],
   "source": [
    "% the y coordinate was inverted, below I set it properly by using an\n",
    "% opposite y-gradient:\n",
    "D = diff(points(:,2));\n",
    "for ii = 2:size(points,1)\n",
    "    points(ii,2) = points(ii-1,2) - D(ii-1);\n",
    "end\n",
    "% set the bottom-left corner at [0,0]:\n",
    "xo = points(1,1);\n",
    "yo = points(1,2);\n",
    "points(:,1)= points(:,1)-xo;\n",
    "points(:,2)= points(:,2)-yo;\n",
    "% close the poligon:\n",
    "points(end+1,:) = points(1,:);\n",
    "% apply the scale factor to homogenise with the grid sampling scale:\n",
    "sfactor = (x(2)-x(1)-12)/(points(2,1)-points(1,1));\n",
    "points = sfactor*points;"
   ]
  },
  {
   "cell_type": "code",
   "execution_count": 4,
   "metadata": {
    "kernel": "matlab"
   },
   "outputs": [
    {
     "name": "stderr",
     "output_type": "stream",
     "text": [
      "\u001b[0;31mOperation terminated by user during WMSCapabilities>setCRS (line 484)\n",
      "\n",
      "In WMSCapabilities>setLayerProperties (line 434)\n",
      "        Layer(k) = setCRS(Layer(k), namedLayer);       \n",
      "In WMSCapabilities>setCapabilityProperties (line 359)\n",
      "capabilities = setLayerProperties(capabilities, document);\n",
      "In WMSCapabilities>setProperties (line 287)\n",
      "capabilities = setCapabilityProperties(capabilities, document);\n",
      "In WMSCapabilities (line 165)\n",
      "                self = setProperties(self, document, serverURL);\n",
      "In WebMapServer/issueWebReadGetCapabilitiesRequest (line 552)\n",
      "            capabilities = WMSCapabilities(serverURL, response);\n",
      "In WebMapServer/issueGetCapabilitiesRequest (line 504)\n",
      "                capabilities = issueWebReadGetCapabilitiesRequest(h, version);\n",
      "In WebMapServer/getCapabilities (line 238)\n",
      "                capabilities = issueGetCapabilitiesRequest(h);\n",
      "In wmsinfo>getDocument (line 326)\n",
      "    capabilities = server.getCapabilities();\n",
      "In wmsinfo (line 315)\n",
      "capabilities = getDocument(server, timeoutInSeconds);\n",
      "\u001b[0m"
     ]
    },
    {
     "name": "stdout",
     "output_type": "stream",
     "text": [
      "the MATLAB function has been cancelled\n"
     ]
    }
   ],
   "source": [
    "% ORTHOPHOTO\n",
    "ortofoto = wmsinfo(Url_ortofoto);\n",
    "    [sg,Rsg] = wmsread(ortofoto.Layer(4),'Latlim',LatE,'Lonlim',LonE);\n",
    "    % Display the ortho-image in a UTM projection.\n",
    "    figure(1), clf\n",
    "    axesm('utm', 'Zone', utmzone(LatE, LonE), ...\n",
    "        'MapLatlimit', LatE, 'MapLonlimit', LonE, ...\n",
    "        'Geoid', wgs84Ellipsoid)\n",
    "    geoshow(sg,Rsg)\n",
    "    axis off\n",
    "    title({'\\fontsize{14}\\color{black}\\bf San Giuseppiello',\n",
    "           '\\fontsize{12}\\color{red}Orthophoto & grid sampling',\n",
    "           '\\fontsize{8}\\color{gray}GLangella'})"
   ]
  },
  {
   "cell_type": "code",
   "execution_count": 5,
   "metadata": {
    "kernel": "matlab"
   },
   "outputs": [],
   "source": [
    "% CONVERT:\n",
    "xo = x(1);\n",
    "yo = y(1);\n",
    "x = x-x(1);\n",
    "y = y-y(1);\n",
    "% rotation:\n",
    "angl    = 0;% -6;\n",
    "rot_mat = @(angl) [cos(angl) -sin(angl); sin(angl) cos(angl)];\n",
    "mat     = rot_mat(deg2rad(angl));"
   ]
  },
  {
   "cell_type": "code",
   "execution_count": null,
   "metadata": {
    "kernel": "matlab"
   },
   "outputs": [
    {
     "name": "stdout",
     "output_type": "stream",
     "text": [
      "the MATLAB function has been cancelled\n"
     ]
    }
   ],
   "source": [
    "% figure:\n",
    "figure(1),% clf,\n",
    "hold on\n",
    "Xv = x(1)-CELLSIZE:CELLSIZE:x(2)+(diff(x)/4)+CELLSIZE;\n",
    "Yh = y(1)-(diff(y)/6)-CELLSIZE:CELLSIZE:y(2)+CELLSIZE;\n",
    "for ii = 1:length(Xv)\n",
    "    XY = mat*[[Xv(ii),Xv(ii)];[min(Yh),max(Yh)]];\n",
    "    line(xo+XY(1,:),yo+XY(2,:),'color',[.7,.7,.7])\n",
    "end\n",
    "for ii = 1:length(Yh)\n",
    "    XY = mat*[[min(Xv),max(Xv)];[Yh(ii),Yh(ii)]];\n",
    "    line(xo+XY(1,:),yo+XY(2,:),'color',[.7,.7,.7])\n",
    "end\n",
    "% add the polygon:\n",
    "line(xo+points(:,1),yo+points(:,2),'color','k','LineWidth',2)\n",
    "% plot the sampling points:\n",
    "[Xs,Ys] = meshgrid(Xv(1:end-1)+20/2,Yh(1:end-1)+20/2);\n",
    "XY = mat*[Xs(:),Ys(:)]';\n",
    "% find sampling points inside (IN) or on the border of (ON) poligon:\n",
    "[IN,ON] = inpolygon(XY(1,:),XY(2,:),points(:,1),points(:,2));\n",
    "% plot IN points\n",
    "scatter(xo+XY(1,IN),yo+XY(2,IN),12,'r','Marker','+')\n",
    "% plot ON points\n",
    "if sum(ON)\n",
    "    scatter(xo+XY(1,ON),yo+XY(2,ON),12,'y','Marker','+')\n",
    "end\n",
    "hold off\n",
    "axis equal"
   ]
  },
  {
   "cell_type": "code",
   "execution_count": null,
   "metadata": {
    "kernel": "matlab"
   },
   "outputs": [
    {
     "name": "stderr",
     "output_type": "stream",
     "text": [
      "\u001b[0;31mError using eval\n",
      "Undefined function or variable 'IN'.\n",
      "\u001b[0m"
     ]
    }
   ],
   "source": [
    "% COORD:\n",
    "XGRID = (xo+XY(1,IN))';\n",
    "YGRID = (yo+XY(2,IN))';\n",
    "figure(2), clf\n",
    "axesm('utm', 'Zone', utmzone(LatE, LonE), ...\n",
    "    'MapLatlimit', LatE, 'MapLonlimit', LonE, ...\n",
    "    'Geoid', wgs84Ellipsoid)\n",
    "%geoshow(sg,Rsg)\n",
    "axis off\n",
    "title({'\\fontsize{14}\\color{black}\\bf San Giuseppiello',\n",
    "       '\\fontsize{12}\\color{red}Orthophoto & grid sampling',\n",
    "       '\\fontsize{8}\\color{gray}GLangella'})\n",
    "hold on\n",
    "line(xo+points(:,1),yo+points(:,2),'color','k','LineWidth',2)\n",
    "scatter(XGRID,YGRID,12,'r','Marker','+')\n",
    "hold off\n",
    "axis equal\n",
    "\n",
    "% S A V E:\n",
    "% convert string\n",
    "%eval( [['XGRID_',num2str(CELLSIZE),'m = XGRID;']] )\n",
    "%eval( [['YGRID_',num2str(CELLSIZE),'m = YGRID;']] )\n",
    "% if exist(fullfile(WDIR,'GRIDS.mat'),'file')\n",
    "%     save( fullfile(WDIR,'GRIDS.mat'), ['XGRID_',num2str(CELLSIZE),'m'],['YGRID_',num2str(CELLSIZE),'m'], '-append')\n",
    "% else\n",
    "%     save( fullfile(WDIR,'GRIDS.mat'), ['XGRID_',num2str(CELLSIZE),'m'],['YGRID_',num2str(CELLSIZE),'m'] )\n",
    "% end"
   ]
  },
  {
   "cell_type": "markdown",
   "metadata": {},
   "source": [
    "### build the 8-cell position"
   ]
  },
  {
   "cell_type": "code",
   "execution_count": 19,
   "metadata": {
    "kernel": "matlab"
   },
   "outputs": [],
   "source": [
    "%% -- build the 8-cell position\n",
    "DIST = squareform(pdist( [XGRID, YGRID] ));\n",
    "P8cell = cell(size(DIST,1),1);\n",
    "for ii = 1:size(DIST,1)\n",
    "    P8cell{ii} = find( DIST(:,ii)<=8 & DIST(:,ii)>0 );\n",
    "end\n",
    "% S A V E:\n",
    "% if exist(fullfile(WDIR,'GRIDS.mat'),'file')\n",
    "%     save( fullfile(WDIR,'GRIDS.mat'), 'P8cell', '-append')\n",
    "% else\n",
    "%     save( fullfile(WDIR,'GRIDS.mat'), 'P8cell' )\n",
    "% end"
   ]
  },
  {
   "cell_type": "markdown",
   "metadata": {},
   "source": [
    "### covariates"
   ]
  },
  {
   "cell_type": "markdown",
   "metadata": {},
   "source": [
    "#### Mechanical Impedance"
   ]
  },
  {
   "cell_type": "code",
   "execution_count": null,
   "metadata": {
    "kernel": "matlab"
   },
   "outputs": [],
   "source": [
    "% First, run the cells on \"Mechanical Impedance\" above!\n",
    "Imax = max(Iview,[],1)';\n",
    "Ximax = Xm(1,:)';\n",
    "Yimax = Ym(1,:)';\n",
    "% scatter( Ximax, Yimax, +Imax/20,  Imax, 'filled' )\n",
    "MImax_G = gIDW(Ximax,Yimax,Imax,XGRID,YGRID,-2,'r',20);\n",
    "figure(2), clf\n",
    "axesm('utm', 'Zone', utmzone(LatE, LonE), ...\n",
    "    'MapLatlimit', LatE, 'MapLonlimit', LonE, ...\n",
    "    'Geoid', wgs84Ellipsoid)\n",
    "geoshow(sg,Rsg)\n",
    "axis off\n",
    "title({'\\fontsize{14}\\color{black}\\bf San Giuseppiello',...\n",
    "    '\\fontsize{12}\\color{red}Mechanical Impedance',...\n",
    "    '\\fontsize{8}\\color{gray}5mt grid interpolation on Orthophoto'})\n",
    "hold on\n",
    "line(xo+points(:,1),yo+points(:,2),'color','k','LineWidth',2)\n",
    "scatter(XGRID,YGRID,12,MImax_G,'filled')\n",
    "hold off\n",
    "% S A V E:\n",
    "%if exist(fullfile(WDIR,'GRIDS.mat'),'file')\n",
    "%    save( fullfile(WDIR,'GRIDS.mat'), 'MImax_G', '-append')\n",
    "%else\n",
    "%    save( fullfile(WDIR,'GRIDS.mat'), 'MImax_G' )\n",
    "%end"
   ]
  },
  {
   "cell_type": "markdown",
   "metadata": {},
   "source": [
    "#### Profiler"
   ]
  },
  {
   "cell_type": "code",
   "execution_count": null,
   "metadata": {
    "collapsed": true,
    "kernel": "matlab"
   },
   "outputs": [],
   "source": [
    "% First, run the cells on \"PROFILER\" above!\n",
    "\n",
    "for ii = 1:size(COND_F,2)\n",
    "    PROF_G(:,ii) = gIDW(X,Y,COND_F(:,ii),XGRID,YGRID,-2,'r',20);\n",
    "end\n",
    "% S A V E:\n",
    "if exist(fullfile(WDIR,'GRIDS.mat'),'file')\n",
    "    save( fullfile(WDIR,'GRIDS.mat'), 'PROF_G', '-append')\n",
    "else\n",
    "    save( fullfile(WDIR,'GRIDS.mat'), 'PROF_G' )\n",
    "end\n",
    "%% ----- plot loop\n",
    "for ii = 1:size(COND_F,2)\n",
    "    figure(2), clf\n",
    "    axesm('utm', 'Zone', utmzone(LatE, LonE), ...\n",
    "        'MapLatlimit', LatE, 'MapLonlimit', LonE, ...\n",
    "        'Geoid', wgs84Ellipsoid)\n",
    "    geoshow(sg,Rsg)\n",
    "    axis off\n",
    "    title({'\\fontsize{14}\\color{black}\\bf San Giuseppiello',...\n",
    "        ['\\fontsize{12}\\color{red}PROFILER :: ',COLH_profiler{Fcond(ii)}],...\n",
    "        '\\fontsize{8}\\color{gray}5mt grid interpolation on Orthophoto'})\n",
    "    hold on\n",
    "    line(xo+points(:,1),yo+points(:,2),'color','k','LineWidth',2)\n",
    "    scatter(XGRID,YGRID,12,PROF_G(:,3),'filled')\n",
    "    hold off\n",
    "    pause(2)\n",
    "end"
   ]
  },
  {
   "cell_type": "markdown",
   "metadata": {},
   "source": [
    "#### Dualem"
   ]
  },
  {
   "cell_type": "code",
   "execution_count": null,
   "metadata": {
    "collapsed": true,
    "kernel": "matlab"
   },
   "outputs": [],
   "source": [
    "% First, run the cells on \"DUALEM\" above!\n",
    "for ii = 1:size(RESIS_F,2)\n",
    "    DUALEM_G(:,ii) = gIDW(X,Y,RESIS_F(:,ii),XGRID,YGRID,-2,'r',20);\n",
    "end\n",
    "% S A V E:\n",
    "if exist(fullfile(WDIR,'GRIDS.mat'),'file')\n",
    "    save( fullfile(WDIR,'GRIDS.mat'), 'DUALEM_G', '-append')\n",
    "else\n",
    "    save( fullfile(WDIR,'GRIDS.mat'), 'DUALEM_G' )\n",
    "end\n",
    "%% ----- plot loop\n",
    "for ii = 1:size(RESIS_F,2)\n",
    "    figure(2), clf\n",
    "    axesm('utm', 'Zone', utmzone(LatE, LonE), ...\n",
    "        'MapLatlimit', LatE, 'MapLonlimit', LonE, ...\n",
    "        'Geoid', wgs84Ellipsoid)\n",
    "    geoshow(sg,Rsg)\n",
    "    axis off\n",
    "    title({'\\fontsize{14}\\color{black}\\bf San Giuseppiello',...\n",
    "        ['\\fontsize{12}\\color{red}PROFILER :: ',COLH_sg_dualem{Fres_D(ii)}],...\n",
    "        '\\fontsize{8}\\color{gray}5mt grid interpolation on Orthophoto'})\n",
    "    hold on\n",
    "    line(xo+points(:,1),yo+points(:,2),'color','k','LineWidth',2)\n",
    "    scatter(XGRID,YGRID,12,DUALEM_G(:,ii),'filled')\n",
    "    hold off\n",
    "    pause(2)\n",
    "end"
   ]
  },
  {
   "cell_type": "markdown",
   "metadata": {},
   "source": [
    "#### Arp"
   ]
  },
  {
   "cell_type": "code",
   "execution_count": null,
   "metadata": {
    "collapsed": true,
    "kernel": "matlab"
   },
   "outputs": [],
   "source": [
    "% First, run the cells on \"ARP\" above!\n",
    "for ii = 1:size(VOIE_F,2)\n",
    "    VOIE_F_G(:,ii) = gIDW(X,Y,VOIE_F(:,ii),XGRID,YGRID,-2,'r',20);\n",
    "end\n",
    "% S A V E:\n",
    "%if exist(fullfile(WDIR,'GRIDS.mat'),'file')\n",
    "%    save( fullfile(WDIR,'GRIDS.mat'), 'VOIE_F_G', '-append')\n",
    "%else\n",
    "%    save( fullfile(WDIR,'GRIDS.mat'), 'VOIE_F_G' )\n",
    "%end"
   ]
  },
  {
   "cell_type": "markdown",
   "metadata": {},
   "source": [
    "plot loop"
   ]
  },
  {
   "cell_type": "code",
   "execution_count": null,
   "metadata": {
    "collapsed": true,
    "kernel": "matlab"
   },
   "outputs": [],
   "source": [
    "for ii = 1:size(VOIE_F,2)\n",
    "    figure(2), clf\n",
    "    axesm('utm', 'Zone', utmzone(LatE, LonE), ...\n",
    "        'MapLatlimit', LatE, 'MapLonlimit', LonE, ...\n",
    "        'Geoid', wgs84Ellipsoid)\n",
    "    geoshow(sg,Rsg)\n",
    "    axis off\n",
    "    title({'\\fontsize{14}\\color{black}\\bf San Giuseppiello',...\n",
    "        ['\\fontsize{12}\\color{red}PROFILER :: ',COLH_sg_arp{Fvoie(ii)}],...\n",
    "        '\\fontsize{8}\\color{gray}5mt grid interpolation on Orthophoto'})\n",
    "    hold on\n",
    "    line(xo+points(:,1),yo+points(:,2),'color','k','LineWidth',2)\n",
    "    scatter(XGRID,YGRID,12,VOIE_F_G(:,ii),'filled')\n",
    "    hold off\n",
    "    pause(3)\n",
    "end"
   ]
  },
  {
   "cell_type": "markdown",
   "metadata": {},
   "source": [
    "#### Gamma-Ray"
   ]
  },
  {
   "cell_type": "code",
   "execution_count": null,
   "metadata": {
    "collapsed": true,
    "kernel": "matlab"
   },
   "outputs": [],
   "source": [
    "% First, run the cells on \"GAMMA RAY\" above!\n",
    "for ii = 1:size(GRAY,2)\n",
    "    GRAY_G(:,ii) = gIDW(X,Y,GRAY(:,ii),XGRID,YGRID,-2,'r',20);\n",
    "end\n",
    "% S A V E:\n",
    "if exist(fullfile(WDIR,'GRIDS.mat'),'file')\n",
    "    save( fullfile(WDIR,'GRIDS.mat'), 'GRAY_G', '-append')\n",
    "else\n",
    "    save( fullfile(WDIR,'GRIDS.mat'), 'GRAY_G' )\n",
    "end"
   ]
  },
  {
   "cell_type": "markdown",
   "metadata": {},
   "source": [
    "plot loop"
   ]
  },
  {
   "cell_type": "code",
   "execution_count": null,
   "metadata": {
    "collapsed": true,
    "kernel": "matlab"
   },
   "outputs": [],
   "source": [
    "for ii = 1:size(GRAY,2)\n",
    "    figure(2), clf\n",
    "    axesm('utm', 'Zone', utmzone(LatE, LonE), ...\n",
    "        'MapLatlimit', LatE, 'MapLonlimit', LonE, ...\n",
    "        'Geoid', wgs84Ellipsoid)\n",
    "    geoshow(sg,Rsg)\n",
    "    axis off\n",
    "    title({'\\fontsize{14}\\color{black}\\bf San Giuseppiello',...\n",
    "        ['\\fontsize{12}\\color{red}PROFILER :: ',COLH_sg_gamray{FGRAY(ii)}],...\n",
    "        '\\fontsize{8}\\color{gray}5mt grid interpolation on Orthophoto'})\n",
    "    hold on\n",
    "    line(xo+points(:,1),yo+points(:,2),'color','k','LineWidth',2)\n",
    "    scatter(XGRID,YGRID,12,GRAY_G(:,ii),'filled')\n",
    "    hold off\n",
    "    pause(3)\n",
    "end"
   ]
  },
  {
   "cell_type": "markdown",
   "metadata": {},
   "source": [
    "### NSRDGC | Normalized Sum of Relative Differences on Geophysical Covariates"
   ]
  },
  {
   "cell_type": "code",
   "execution_count": null,
   "metadata": {
    "collapsed": true,
    "kernel": "matlab"
   },
   "outputs": [],
   "source": [
    "clear *_G\n",
    "load( fullfile(WDIR,'GRIDS.mat') )\n",
    "\n",
    "G__ = whos('*_G');\n",
    "G__ = {G__.name};\n",
    "\n",
    "% compute the anomaly with respect to the baseline given by the center\n",
    "% point:\n",
    "% old one, but I think it is erroneous:\n",
    "% rel_abs_diff = @(G,idx,col) abs( G(idx,col) - G(P8cell{idx}) ) ./ G(idx);\n",
    "% new one, assuming correct arrays indices:\n",
    "rel_abs_diff = @(G,idx,col) abs( G(idx,col) - G(P8cell{idx},col) ) ./ G(idx,col);\n",
    "\n",
    "DIFF_G      = zeros(size(P8cell));\n",
    "NSRDGC      = zeros(size(P8cell));\n",
    "for ii = 1:numel(P8cell)\n",
    "    N = 0;\n",
    "    for g = 1:numel(G__)\n",
    "        eval( ['G = ',G__{g},';'] );\n",
    "        for jj = 1:size(G,2)\n",
    "            DIFF_G(ii) = DIFF_G(ii) + sum(rel_abs_diff(G, ii, jj));\n",
    "        end\n",
    "        N = N + size(G,2);\n",
    "    end\n",
    "    NSRDGC(ii) = DIFF_G(ii) / N;\n",
    "end\n",
    "\n",
    "% ORTHOPHOTO\n",
    "LatE = [40.9440,40.9490];\n",
    "LonE = [14.0990,14.1045];\n",
    "% Url_ortofoto = 'http://sit.regione.campania.it:80/arcgis/services/cartografia_base/MapServer/WMSServer';\n",
    "% ortofoto = wmsinfo(Url_ortofoto);\n",
    "% [sg,Rsg] = wmsread(ortofoto.Layer(1),'Latlim',LatE,'Lonlim',LonE);%,'ImageFormat','image/tiff');\n",
    "figure(2), clf\n",
    "axesm('utm', 'Zone', utmzone(LatE, LonE), ...\n",
    "    'MapLatlimit', LatE, 'MapLonlimit', LonE, ...\n",
    "    'Geoid', wgs84Ellipsoid)\n",
    "% geoshow(sg,Rsg)\n",
    "axis off\n",
    "title({'\\fontsize{14}\\color{black}\\bf San Giuseppiello',...\n",
    "    ['\\fontsize{12}\\color{red} Relative Absolute Difference'],...\n",
    "    '\\fontsize{8}\\color{gray}5mt grid interpolation on Orthophoto'})\n",
    "hold on\n",
    "scatter(XGRID,YGRID,12,DIFF_G,'filled')\n",
    "hold off\n",
    "\n",
    "figure(1),\n",
    "    subplot(121),qqplot(DIFF_G)% ==> apply a threshold of 120% on DIFF_G\n",
    "    subplot(122),qqplot(NSRDGC)% ==> apply a threshold of 9% on NSRDGC\n",
    "% NOTE: I highlight the same structure between DIFF_G and NSRDGC in the\n",
    "%       qqplot, then I assume that one of the two suffices describing the\n",
    "%       difference hot spots in San Giuseppiello field.\n",
    "    \n",
    "DIFF_G_F = DIFF_G;\n",
    "DIFF_G_F(DIFF_G < 100) = NaN;\n",
    "\n",
    "figure(3), clf\n",
    "axesm('utm', 'Zone', utmzone(LatE, LonE), ...\n",
    "    'MapLatlimit', LatE, 'MapLonlimit', LonE, ...\n",
    "    'Geoid', wgs84Ellipsoid)\n",
    "% geoshow(sg,Rsg)\n",
    "axis off\n",
    "title({'\\fontsize{14}\\color{black}\\bf San Giuseppiello',...\n",
    "    ['\\fontsize{12}\\color{red} Relative Absolute Difference'],...\n",
    "    '\\fontsize{8}\\color{gray}5mt grid interpolation on Orthophoto'})\n",
    "hold on\n",
    "scatter(XGRID,YGRID,16,DIFF_G_F,'filled')\n",
    "hold off\n",
    "%% --- save ~NSRDGC\n",
    "XGRID( isnan(DIFF_G_F) ) = [];\n",
    "YGRID( isnan(DIFF_G_F) ) = [];\n",
    "DIFF_G_F( isnan(DIFF_G_F) ) = [];\n",
    "DXY = [XGRID,YGRID,DIFF_G_F];\n",
    "save( fullfile(WDIR, 'SumOfRelativeDifferences.txt'), 'DXY', '-ascii' )\n",
    "%% -- correlation NSRDGC vs kriging maps of chemical compounds ***HERE***\n",
    "% OK, unknown target var:\n",
    "A = greadtext('ok_L1_raw.txt');\n",
    "OK_L_(:,1) = cae(A,3);\n",
    "A = greadtext('ok_L2_raw.txt');\n",
    "OK_L_(:,2) = cae(A,3);\n",
    "A = greadtext('ok_L3_raw.txt');\n",
    "OK_L_(:,3) = cae(A,3);\n",
    "clear A\n",
    "corr( OK_L_ , NSRDGC, 'rows','pairwise' )\n",
    "% example plot:\n",
    "axis off\n",
    "title({'\\fontsize{14}\\color{black}\\bf San Giuseppiello',...\n",
    "    ['\\fontsize{12}\\color{red} Relative Absolute Difference'],...\n",
    "    '\\fontsize{8}\\color{gray}5mt grid interpolation on Orthophoto'})\n",
    "hold on\n",
    "scatter(XGRID,YGRID,16,OK_L_(:,3),'filled')\n",
    "hold off\n",
    "\n",
    "% GCS, Chrome, L1/L2/L3:\n",
    "A = greadtext('infittimento/L1_gcs__Cr_hmh.txt');\n",
    "GCS_Cr_L1 = cae(A,[3:200]);\n",
    "A = greadtext('infittimento/L2_gcs__Cr_hmh.txt');\n",
    "GCS_Cr_L2 = cae(A,[3:200]);\n",
    "A = greadtext('infittimento/L3_gcs__Cr_hmh.txt');\n",
    "GCS_Cr_L3 = cae(A,[3:200]);\n",
    "A = greadtext('infittimento/L1_gcs__Cr_hmh.txt');\n",
    "C_cr_L1 = corr( GCS_Cr_L1, NSRDGC, 'rows','pairwise' );\n",
    "C_cr_L2 = corr( GCS_Cr_L2, NSRDGC, 'rows','pairwise' );\n",
    "C_cr_L3 = corr( GCS_Cr_L3, NSRDGC, 'rows','pairwise' );\n",
    "figure(31),plot([C_cr_L1,C_cr_L2,C_cr_L3])\n",
    "\n",
    "% GCS, Zinc, L1/L2/L3:\n",
    "A = greadtext('infittimento/L1_gcs__Zn_hmh.txt');\n",
    "GCS_Zn_L1 = cae(A,[3:202]);\n",
    "A = greadtext('infittimento/L2_gcs__Zn_hmh.txt');\n",
    "GCS_Zn_L2 = cae(A,[3:202]);\n",
    "A = greadtext('infittimento/L3_gcs__Zn_hmh.txt');\n",
    "GCS_Zn_L3 = cae(A,[3:202]);\n",
    "C_zn_L1 = corr( GCS_Zn_L1, NSRDGC, 'rows','pairwise' );\n",
    "C_zn_L2 = corr( GCS_Zn_L2, NSRDGC, 'rows','pairwise' );\n",
    "C_zn_L3 = corr( GCS_Zn_L3, NSRDGC, 'rows','pairwise' );\n",
    "figure(32),plot([C_cr_L1,C_cr_L2,C_cr_L3])\n",
    "\n",
    "for g = 1:numel(G__)\n",
    "    eval( ['G = ',G__{g},';'] );\n",
    "    C_zn_L1_G{1,g} = corr( GCS_Zn_L1, G, 'rows','pairwise' );\n",
    "    C_zn_L2_G{1,g} = corr( GCS_Zn_L2, G, 'rows','pairwise' );\n",
    "    C_zn_L3_G{1,g} = corr( GCS_Zn_L3, G, 'rows','pairwise' );\n",
    "    C_cr_L1_G{1,g} = corr( GCS_Cr_L1, G, 'rows','pairwise' );\n",
    "    C_cr_L2_G{1,g} = corr( GCS_Cr_L2, G, 'rows','pairwise' );\n",
    "    C_cr_L3_G{1,g} = corr( GCS_Cr_L3, G, 'rows','pairwise' );\n",
    "end\n",
    "figure(33),clf\n",
    "subplot(311),plot(cell2mat(C_zn_L1_G)),title('Zn L1 vs 16 Geophysical Cov')\n",
    "subplot(312),plot(cell2mat(C_zn_L2_G)),title('Zn L2 vs 16 Geophysical Cov')\n",
    "subplot(313),plot(cell2mat(C_zn_L3_G)),title('Zn L3 vs 16 Geophysical Cov')\n",
    "figure(34),clf\n",
    "subplot(311),plot(cell2mat(C_cr_L1_G)),title('Cr L1 vs 16 Geophysical Cov')\n",
    "subplot(312),plot(cell2mat(C_cr_L2_G)),title('Cr L2 vs 16 Geophysical Cov')\n",
    "subplot(313),plot(cell2mat(C_cr_L3_G)),title('Cr L3 vs 16 Geophysical Cov')\n",
    "\n",
    "GG = zeros(0);\n",
    "for g = 1:numel(G__)\n",
    "    eval( ['G = ',G__{g},';'] );\n",
    "    GG(:,end+1:end+size(G,2))  = G;\n",
    "end\n",
    "A = dir(['infittimento/risk-*.txt']);\n",
    "A = {A.name};\n",
    "R = cell(0);\n",
    "for ii=1:numel(A)\n",
    "    FIL_ = ['infittimento/',A{ii}];\n",
    "    Fpos = regexp(FIL_,'-L');\n",
    "    B = greadtext(FIL_);\n",
    "    R(:,end+1)  = B(:,3);\n",
    "    R{1,end}    = [R{1,end},FIL_(Fpos:Fpos+2)];\n",
    "end\n",
    "C_all_R_G = corr( cell2mat(R(2:end,:)), GG, 'rows','pairwise' );\n",
    "figure(35),clf\n",
    "    plot(C_all_R_G'),title('Correlation Risks maps vs Geophysical maps')\n",
    "    legend( R(1,:) )"
   ]
  }
 ],
 "metadata": {
  "kernelspec": {
   "display_name": "SoS",
   "language": "sos",
   "name": "sos"
  },
  "language_info": {
   "codemirror_mode": "sos",
   "file_extension": ".sos",
   "mimetype": "text/x-sos",
   "name": "sos",
   "nbconvert_exporter": "sos_notebook.converter.SoS_Exporter",
   "pygments_lexer": "sos"
  },
  "sos": {
   "default_kernel": "SoS",
   "kernels": [],
   "panel": {
    "displayed": true,
    "height": 0,
    "style": "side"
   },
   "version": "0.9.13.3"
  }
 },
 "nbformat": 4,
 "nbformat_minor": 2
}
