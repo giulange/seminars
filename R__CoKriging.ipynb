{
 "cells": [
  {
   "cell_type": "markdown",
   "metadata": {},
   "source": [
    "#### Source:\n",
    "Technical Note:<br>\n",
    "Co-kriging with the gstat package<br>\n",
    "of the R environment for statistical computing<br>"
   ]
  },
  {
   "cell_type": "code",
   "execution_count": 6,
   "metadata": {},
   "outputs": [
    {
     "name": "stdout",
     "output_type": "stream",
     "text": [
      "'data.frame':\t164 obs. of  17 variables:\n",
      " $ sample     : num  1 2 3 4 5 6 7 8 9 10 ...\n",
      " $ x          : num  181072 181025 181165 181298 181307 ...\n",
      " $ y          : num  333611 333558 333537 333484 333330 ...\n",
      " $ cadmium    : num  11.7 8.6 6.5 2.6 2.8 3 3.2 2.8 2.4 1.6 ...\n",
      " $ copper     : num  85 81 68 81 48 61 31 29 37 24 ...\n",
      " $ lead       : num  299 277 199 116 117 137 132 150 133 80 ...\n",
      " $ zinc       : num  1022 1141 640 257 269 ...\n",
      " $ elev       : num  7.91 6.98 7.8 7.66 7.48 ...\n",
      " $ dist.m     : num  50 30 150 270 380 470 240 120 240 420 ...\n",
      " $ om         : num  13.6 14 13 8 8.7 7.8 9.2 9.5 10.6 6.3 ...\n",
      " $ ffreq      : num  1 1 1 1 1 1 1 1 1 1 ...\n",
      " $ soil       : num  1 1 1 2 2 2 2 1 1 2 ...\n",
      " $ lime       : num  1 1 1 0 0 0 0 0 0 0 ...\n",
      " $ landuse    : Factor w/ 16 levels \"Aa\",\"Ab\",\"Ag\",..: 4 4 4 11 4 11 4 2 2 16 ...\n",
      " $ in.pit     : logi  FALSE FALSE FALSE FALSE FALSE FALSE ...\n",
      " $ in.meuse155: logi  TRUE TRUE TRUE TRUE TRUE TRUE ...\n",
      " $ in.BMcD    : logi  FALSE FALSE FALSE FALSE FALSE FALSE ...\n"
     ]
    }
   ],
   "source": [
    "library(gstat)\n",
    "?meuse.all\n",
    "data(meuse.all)\n",
    "str(meuse.all)"
   ]
  },
  {
   "cell_type": "code",
   "execution_count": 5,
   "metadata": {},
   "outputs": [
    {
     "name": "stderr",
     "output_type": "stream",
     "text": [
      "Warning message in data(\"meuse.grid\"):\n",
      "“data set ‘meuse.grid’ not found”"
     ]
    }
   ],
   "source": [
    "# I have to generate meuse.grid by myself:\n",
    "data(\"meuse.grid\")"
   ]
  },
  {
   "cell_type": "code",
   "execution_count": null,
   "metadata": {
    "collapsed": true
   },
   "outputs": [],
   "source": [
    "# then I can run the following:\n",
    "?meuse.grid\n",
    "data(meuse.grid)\n",
    "str(meuse.grid)"
   ]
  }
 ],
 "metadata": {
  "kernelspec": {
   "display_name": "R",
   "language": "R",
   "name": "ir"
  },
  "language_info": {
   "codemirror_mode": "r",
   "file_extension": ".r",
   "mimetype": "text/x-r-source",
   "name": "R",
   "pygments_lexer": "r",
   "version": "3.4.0"
  }
 },
 "nbformat": 4,
 "nbformat_minor": 2
}
